{
 "cells": [
  {
   "cell_type": "markdown",
   "metadata": {},
   "source": [
    "# TEMPLATE"
   ]
  },
  {
   "cell_type": "markdown",
   "metadata": {},
   "source": [
    "## Engagement Notes"
   ]
  },
  {
   "cell_type": "markdown",
   "metadata": {},
   "source": [
    "# Enumeration"
   ]
  },
  {
   "cell_type": "markdown",
   "metadata": {},
   "source": [
    "### Set variables for further engagement"
   ]
  },
  {
   "cell_type": "code",
   "execution_count": null,
   "metadata": {},
   "outputs": [],
   "source": [
    "import ipyparallel as ipp\n",
    "from pprint import pprint\n",
    "\n",
    "source =! ip address | grep tun | grep 10 | tr \"/\" \" \" | awk '{print $2}'\n",
    "target = '192.168.20.202'\n",
    "\n",
    "print(f\"source: {source}\")\n",
    "print(f\"target: {target}\")"
   ]
  },
  {
   "cell_type": "markdown",
   "metadata": {},
   "source": [
    "### Port scan target"
   ]
  },
  {
   "cell_type": "code",
   "execution_count": null,
   "metadata": {},
   "outputs": [],
   "source": [
    "#!docker run -it --rm -v $(pwd):/app/target rustscan -a $target\n",
    "from multiprocess import Process\n",
    "from os import system\n",
    "\n",
    "def scan(target):\n",
    "    system(f\"docker run --rm -v $(pwd):/app/target rustscan -a {target}\")\n",
    "\n",
    "scan = Process(target=scan, args=(target,))\n",
    "scan.start()"
   ]
  },
  {
   "cell_type": "markdown",
   "metadata": {},
   "source": [
    "### URL scan target"
   ]
  },
  {
   "cell_type": "code",
   "execution_count": null,
   "metadata": {},
   "outputs": [],
   "source": [
    "#!gobuster dir -u http://$target -w /usr/share/wordlists/dirbuster/directory-list-lowercase-2.3-small.txt -x txt,js,html,php -t 40 --timeout=6s -o gobuster-task.txt --retry\n",
    "protocol = 'http'\n",
    "port = ':8080'\n",
    "\n",
    "def gobuster(protocol, target, port):\n",
    "    system(f\"gobuster dir -u {protocol}://{target}{port} -w /usr/share/wordlists/dirbuster/directory-list-lowercase-2.3-small.txt -x txt,js,html,php -t 40 --timeout=6s -o gobuster-task.txt --retry\")\n",
    "\n",
    "gobuster = Process(target=gobuster, args=(protocol, target, port))\n",
    "gobuster.start()"
   ]
  },
  {
   "cell_type": "markdown",
   "metadata": {},
   "source": [
    "# Exploit"
   ]
  },
  {
   "cell_type": "markdown",
   "metadata": {},
   "source": [
    "## Local HTTP server"
   ]
  },
  {
   "cell_type": "code",
   "execution_count": null,
   "metadata": {},
   "outputs": [],
   "source": [
    "# Need all this to run a forked server but keep the output \n",
    "# where I can see it while still being able to execute other cells.\n",
    "import psutil\n",
    "import socket\n",
    "from time import sleep\n",
    "from multiprocess import Process\n",
    "from http.server import HTTPServer, SimpleHTTPRequestHandler\n",
    "\n",
    "def server():\n",
    "    pids = [conn.pid for conn in psutil.net_connections() if conn.laddr.port == 8080]\n",
    "    if len(pids) > 0:  \n",
    "        psutil.Process(pids[0]).terminate()\n",
    "        sleep(1) # Need a little time to kill process before trying to use port again\n",
    "    httpd = HTTPServer(('localhost', 8080), SimpleHTTPRequestHandler)\n",
    "    httpd.serve_forever()\n",
    "\n",
    "server = Process(target=server, args=())\n",
    "server.start()"
   ]
  },
  {
   "cell_type": "markdown",
   "metadata": {},
   "source": [
    "## pwntools"
   ]
  },
  {
   "cell_type": "code",
   "execution_count": null,
   "metadata": {},
   "outputs": [],
   "source": [
    "from pwn import *\n",
    "\n",
    "# Set up pwntools for the correct architecture\n",
    "context.update(arch='amd64')\n",
    "context.terminal = ['/usr/bin/konsole', '--new-tab', '-e']\n",
    "exe = './'\n",
    "elf = context.binary = ELF(exe, checksec=False)\n",
    "\n",
    "def start(argv=[], *a, **kw):\n",
    "    return process([exe] + argv, *a, **kw)\n",
    "\n",
    "#===========================================================\n",
    "#                    EXPLOIT GOES HERE\n",
    "#===========================================================\n",
    "\n",
    "io = start()\n",
    "\n",
    "io.close()\n"
   ]
  },
  {
   "cell_type": "markdown",
   "metadata": {},
   "source": [
    "## SSH Establish"
   ]
  },
  {
   "cell_type": "code",
   "execution_count": null,
   "metadata": {},
   "outputs": [],
   "source": [
    "# set up paramiko ssh client\n",
    "user = {\n",
    "    'username': '',\n",
    "    'password': ''\n",
    "}\n",
    "import paramiko\n",
    "ssh_user = paramiko.SSHClient()\n",
    "\n",
    "# set up ssh client\n",
    "ssh_user.set_missing_host_key_policy(paramiko.AutoAddPolicy())\n",
    "\n",
    "# connect to ssh\n",
    "ssh_user.connect(target, username=user['username'], password=user['password'])\n",
    "\n",
    "def user(command):\n",
    "    stdin, stdout, stderr = ssh_lennie.exec_command(command)\n",
    "    return stdout.readlines()"
   ]
  },
  {
   "cell_type": "markdown",
   "metadata": {},
   "source": [
    "# Post Notes"
   ]
  }
 ],
 "metadata": {
  "kernelspec": {
   "display_name": ".venv",
   "language": "python",
   "name": "python3"
  },
  "language_info": {
   "codemirror_mode": {
    "name": "ipython",
    "version": 3
   },
   "file_extension": ".py",
   "mimetype": "text/x-python",
   "name": "python",
   "nbconvert_exporter": "python",
   "pygments_lexer": "ipython3",
   "version": "3.11.9"
  }
 },
 "nbformat": 4,
 "nbformat_minor": 2
}
